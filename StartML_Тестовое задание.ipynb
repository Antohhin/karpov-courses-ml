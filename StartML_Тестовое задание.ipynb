{
 "cells": [
  {
   "cell_type": "markdown",
   "id": "04e72c93",
   "metadata": {},
   "source": [
    "# Задание 1. SQL\n",
    "Найдите город, пользователи которого в возрасте 36 лет 2021-12-01 числа просмотрели запись на тему `covid` меньше всего раз относительно других городов.\n",
    "####  Как подключиться к PostgreSQL через psycopg2:\n",
    "1. Импортируем библиотеку.\n",
    "2. Далее используем данные для входа"
   ]
  },
  {
   "cell_type": "code",
   "execution_count": 1,
   "id": "f485de22",
   "metadata": {},
   "outputs": [],
   "source": [
    "# import psycopg2\n",
    "import pandas as pd\n",
    "from sqlalchemy import create_engine"
   ]
  },
  {
   "cell_type": "code",
   "execution_count": 2,
   "id": "b632d00b",
   "metadata": {},
   "outputs": [
    {
     "data": {
      "text/html": [
       "<div>\n",
       "<style scoped>\n",
       "    .dataframe tbody tr th:only-of-type {\n",
       "        vertical-align: middle;\n",
       "    }\n",
       "\n",
       "    .dataframe tbody tr th {\n",
       "        vertical-align: top;\n",
       "    }\n",
       "\n",
       "    .dataframe thead th {\n",
       "        text-align: right;\n",
       "    }\n",
       "</style>\n",
       "<table border=\"1\" class=\"dataframe\">\n",
       "  <thead>\n",
       "    <tr style=\"text-align: right;\">\n",
       "      <th></th>\n",
       "      <th>id</th>\n",
       "      <th>gender</th>\n",
       "      <th>age</th>\n",
       "      <th>country</th>\n",
       "      <th>city</th>\n",
       "      <th>exp_group</th>\n",
       "      <th>os</th>\n",
       "      <th>source</th>\n",
       "    </tr>\n",
       "  </thead>\n",
       "  <tbody>\n",
       "    <tr>\n",
       "      <th>0</th>\n",
       "      <td>200</td>\n",
       "      <td>1</td>\n",
       "      <td>34</td>\n",
       "      <td>Russia</td>\n",
       "      <td>Degtyarsk</td>\n",
       "      <td>3</td>\n",
       "      <td>Android</td>\n",
       "      <td>ads</td>\n",
       "    </tr>\n",
       "  </tbody>\n",
       "</table>\n",
       "</div>"
      ],
      "text/plain": [
       "    id  gender  age country       city  exp_group       os source\n",
       "0  200       1   34  Russia  Degtyarsk          3  Android    ads"
      ]
     },
     "execution_count": 2,
     "metadata": {},
     "output_type": "execute_result"
    }
   ],
   "source": [
    "# A long string that contains the necessary Postgres login information \n",
    "postgres_str = ('postgresql://{username}:{password}@{host}:{port}/{dbname}'\\\n",
    "                .format(username='robot-startml-ro', \\\n",
    "                   password='pheiph0hahj1Vaif', \\\n",
    "                   host='postgres.lab.karpov.courses', \\\n",
    "                   port=6432, \\\n",
    "                   dbname='startml')) \n",
    "\n",
    "# Create the connection \n",
    "cnx = create_engine(postgres_str)\n",
    "pd.read_sql_query('SELECT * FROM \"user\" limit 1;', cnx).head(1)"
   ]
  },
  {
   "cell_type": "markdown",
   "id": "1341bdfb",
   "metadata": {},
   "source": [
    "В конце работы необходимо закрывать курсор и соединение с БД:"
   ]
  },
  {
   "cell_type": "code",
   "execution_count": null,
   "id": "e9c5126e",
   "metadata": {},
   "outputs": [],
   "source": [
    "cursor.close() \n",
    "connection.close()"
   ]
  },
  {
   "cell_type": "markdown",
   "id": "e3a3faa2",
   "metadata": {},
   "source": [
    "#### Как подключиться к PostgreSQL через pandas:"
   ]
  },
  {
   "cell_type": "code",
   "execution_count": 5,
   "id": "f236e67b",
   "metadata": {},
   "outputs": [],
   "source": [
    "import pandas as pd"
   ]
  },
  {
   "cell_type": "code",
   "execution_count": 4,
   "id": "d5fc64d2",
   "metadata": {},
   "outputs": [
    {
     "data": {
      "text/html": [
       "<div>\n",
       "<style scoped>\n",
       "    .dataframe tbody tr th:only-of-type {\n",
       "        vertical-align: middle;\n",
       "    }\n",
       "\n",
       "    .dataframe tbody tr th {\n",
       "        vertical-align: top;\n",
       "    }\n",
       "\n",
       "    .dataframe thead th {\n",
       "        text-align: right;\n",
       "    }\n",
       "</style>\n",
       "<table border=\"1\" class=\"dataframe\">\n",
       "  <thead>\n",
       "    <tr style=\"text-align: right;\">\n",
       "      <th></th>\n",
       "      <th>user_id</th>\n",
       "      <th>post_id</th>\n",
       "      <th>action</th>\n",
       "      <th>time</th>\n",
       "    </tr>\n",
       "  </thead>\n",
       "  <tbody>\n",
       "    <tr>\n",
       "      <th>0</th>\n",
       "      <td>139546</td>\n",
       "      <td>2332</td>\n",
       "      <td>view</td>\n",
       "      <td>2021-11-21 23:58:16</td>\n",
       "    </tr>\n",
       "    <tr>\n",
       "      <th>1</th>\n",
       "      <td>109081</td>\n",
       "      <td>2483</td>\n",
       "      <td>view</td>\n",
       "      <td>2021-11-21 23:58:16</td>\n",
       "    </tr>\n",
       "    <tr>\n",
       "      <th>2</th>\n",
       "      <td>32770</td>\n",
       "      <td>2529</td>\n",
       "      <td>view</td>\n",
       "      <td>2021-11-21 23:58:16</td>\n",
       "    </tr>\n",
       "    <tr>\n",
       "      <th>3</th>\n",
       "      <td>32571</td>\n",
       "      <td>2537</td>\n",
       "      <td>view</td>\n",
       "      <td>2021-11-21 23:58:16</td>\n",
       "    </tr>\n",
       "    <tr>\n",
       "      <th>4</th>\n",
       "      <td>134004</td>\n",
       "      <td>2555</td>\n",
       "      <td>view</td>\n",
       "      <td>2021-11-21 23:58:16</td>\n",
       "    </tr>\n",
       "  </tbody>\n",
       "</table>\n",
       "</div>"
      ],
      "text/plain": [
       "   user_id  post_id action                time\n",
       "0   139546     2332   view 2021-11-21 23:58:16\n",
       "1   109081     2483   view 2021-11-21 23:58:16\n",
       "2    32770     2529   view 2021-11-21 23:58:16\n",
       "3    32571     2537   view 2021-11-21 23:58:16\n",
       "4   134004     2555   view 2021-11-21 23:58:16"
      ]
     },
     "execution_count": 4,
     "metadata": {},
     "output_type": "execute_result"
    }
   ],
   "source": [
    "# import pandas as pd\n",
    "\n",
    "df = pd.read_sql(\n",
    "    \"\"\"SELECT * FROM \"feed_action\" LIMIT 10 \"\"\",\n",
    "    con=\"postgresql://robot-startml-ro:pheiph0hahj1Vaif@\"\n",
    "        \"postgres.lab.karpov.courses:6432/startml\"\n",
    ")\n",
    "\n",
    "df.head()"
   ]
  },
  {
   "cell_type": "markdown",
   "id": "7838d398",
   "metadata": {},
   "source": [
    "### В базе данных имеется три таблицы:\n",
    "\n",
    "#### 1. Таблица с данными о пользователях (`user`):\n",
    "\n",
    "`id` - уникальный идентификатор пользователя (primary key)\n",
    "\n",
    "`gender` - пол\n",
    "\n",
    "`age` - возраст\n",
    "\n",
    "`country` - страна\n",
    "\n",
    "`city` - город\n",
    "\n",
    "`exp_group` - экспериментальная группа\n",
    "\n",
    "`os` - операционная система\n",
    "\n",
    "`source` - источник трафика\n",
    "\n",
    "#### 2. Таблица с данными о постах (`post`):\n",
    "\n",
    "`id` - уникальный идентификатор поста (primary key)\n",
    "\n",
    "`text` - текст поста\n",
    "\n",
    "`topic` - тема поста\n",
    "\n",
    "#### 3. Таблица с данными о действиях пользователей (`feed_action`):\n",
    "\n",
    "`user_id` (——>) `user (id)` - идентификатор пользователя     \n",
    "\n",
    "`post_id` (——>) `post (id)` - идентификатор поста     \n",
    "\n",
    "`action` - совершенное в сети действие     \n",
    "\n",
    "`time` - время действия"
   ]
  },
  {
   "cell_type": "markdown",
   "id": "0e0d50f8",
   "metadata": {},
   "source": [
    "# Задание 1. SQL\n",
    "Найдите город, пользователи которого в возрасте 36 лет 2021-12-01 числа просмотрели запись на тему `covid` меньше всего раз относительно других городов."
   ]
  },
  {
   "cell_type": "markdown",
   "id": "ff2633f4",
   "metadata": {},
   "source": [
    "1. Получить пользователей и количество просмотренных записей на тему ковида\n",
    "2. Сгруппировать по городам\n",
    "3. взять минимум среди всех городов\n",
    "4. отфильтровать по возрасту и дате\n",
    "5. если после фильтрации ничего нет, передвинуть фильтрацию на шаг раньше"
   ]
  },
  {
   "cell_type": "code",
   "execution_count": 37,
   "id": "13ae93b8",
   "metadata": {
    "vscode": {
     "languageId": "sql"
    }
   },
   "outputs": [],
   "source": [
    "city_min_view_covid = pd.read_sql(f\"\"\"\n",
    "        SELECT\n",
    "            city_count.city\n",
    "        FROM (\n",
    "                SELECT \n",
    "                    city,\n",
    "                    count(*) as view_number\n",
    "                FROM \"user\" u\n",
    "                INNER JOIN \"feed_action\" fa on\n",
    "                    u.id = fa.user_id\n",
    "                INNER JOIN \"post\" p on\n",
    "                    fa.post_id = p.id \n",
    "                WHERE 1=1\n",
    "                AND action = 'view'\n",
    "                AND topic = 'covid'\n",
    "                AND age = 36\n",
    "                AND date(time) = '2021-12-01'\n",
    "                GROUP BY city\n",
    "                ORDER BY count(*)\n",
    "                LIMIT 1\n",
    "        ) as city_count\n",
    "        \"\"\", con = cnx)"
   ]
  },
  {
   "cell_type": "code",
   "execution_count": 38,
   "id": "e1f59842",
   "metadata": {
    "vscode": {
     "languageId": "sql"
    }
   },
   "outputs": [
    {
     "data": {
      "text/html": [
       "<div>\n",
       "<style scoped>\n",
       "    .dataframe tbody tr th:only-of-type {\n",
       "        vertical-align: middle;\n",
       "    }\n",
       "\n",
       "    .dataframe tbody tr th {\n",
       "        vertical-align: top;\n",
       "    }\n",
       "\n",
       "    .dataframe thead th {\n",
       "        text-align: right;\n",
       "    }\n",
       "</style>\n",
       "<table border=\"1\" class=\"dataframe\">\n",
       "  <thead>\n",
       "    <tr style=\"text-align: right;\">\n",
       "      <th></th>\n",
       "      <th>city</th>\n",
       "    </tr>\n",
       "  </thead>\n",
       "  <tbody>\n",
       "    <tr>\n",
       "      <th>0</th>\n",
       "      <td>Arkhangelsk</td>\n",
       "    </tr>\n",
       "  </tbody>\n",
       "</table>\n",
       "</div>"
      ],
      "text/plain": [
       "          city\n",
       "0  Arkhangelsk"
      ]
     },
     "execution_count": 38,
     "metadata": {},
     "output_type": "execute_result"
    }
   ],
   "source": [
    "city_min_view_covid"
   ]
  },
  {
   "cell_type": "markdown",
   "id": "e412eb9b",
   "metadata": {},
   "source": [
    "# Задание 2. Статистика\n",
    "Воспользуемся доверительными интервалами, чтобы сделать более точные выводы о метриках модели.\n",
    "\n",
    "Для начала скачаем данные:"
   ]
  },
  {
   "cell_type": "code",
   "execution_count": 1,
   "id": "3ba8aa74",
   "metadata": {},
   "outputs": [],
   "source": [
    "from sklearn.datasets import fetch_california_housing\n",
    "X, y = fetch_california_housing(return_X_y=True, as_frame=True)"
   ]
  },
  {
   "cell_type": "markdown",
   "id": "b40153c3",
   "metadata": {},
   "source": [
    "Это задача предсказания средней цены в области на дом. Давайте оценим 95-процентный доверительный интервал на MSE Ridge-регрессии для этой выборки. Будем использовать бутстрэп для этого.\n",
    "\n",
    "Для этого в цикле будем генерировать бутстрэп-выборки для обучения модели (то есть брать объекты из выборки с возвращением). В качестве тестовых объектов будем брать оставшиеся объекты. Каждый раз будем обучать модель и оценивать качество.\n",
    "\n",
    "Реализуйте такой код для 95-процентного доверительного интервала на MSE.\n",
    "\n",
    "Используйте 1000 итераций генераций выборки и обучения модели. Данные не обрабатывайте. Полезными методами будут `np.random.choice` для генерации индексов бутстрэп-выборок (не забудьте про «генерацию с возвращением»), `np.setdiff1d` для получения остатка выборки."
   ]
  },
  {
   "cell_type": "code",
   "execution_count": 2,
   "id": "5420b7a7",
   "metadata": {},
   "outputs": [
    {
     "name": "stderr",
     "output_type": "stream",
     "text": [
      "/Users/antonmazilin/study_projects/karpov-courses-ml/.env/lib/python3.9/site-packages/tqdm/auto.py:21: TqdmWarning: IProgress not found. Please update jupyter and ipywidgets. See https://ipywidgets.readthedocs.io/en/stable/user_install.html\n",
      "  from .autonotebook import tqdm as notebook_tqdm\n"
     ]
    }
   ],
   "source": [
    "import numpy as np\n",
    "import pandas as pd\n",
    "from scipy.stats import norm\n",
    "import matplotlib.pyplot as plt\n",
    "\n",
    "from tqdm.auto import tqdm\n",
    "from sklearn.metrics import mean_squared_error\n",
    "from sklearn.linear_model import Ridge\n",
    "\n",
    "plt.style.use('ggplot')"
   ]
  },
  {
   "cell_type": "code",
   "execution_count": 49,
   "id": "4dc56e3b",
   "metadata": {},
   "outputs": [],
   "source": [
    "def get_bootstrap(\n",
    "    X,\n",
    "    y,\n",
    "    boot_it = 1000, # количество бутстрэп-подвыборок\n",
    "    bootstrap_conf_level = 0.95, # уровень значимости\n",
    "    alpha = 1 # параметр Ridge reg\n",
    "):\n",
    "    # Collect mse error\n",
    "    boot_data = []\n",
    "    ridgereg = Ridge(alpha=alpha)\n",
    "    # Set range for random choice\n",
    "    boot_len = len(X)\n",
    "    # Set range for setdiff1d choice\n",
    "    oob_scope = np.arange(boot_len)\n",
    "    for i in tqdm(range(boot_it)): # извлекаем подвыборки\n",
    "\n",
    "        # Make dataset train—test split\n",
    "        bootstrap_indeces = np.random.choice(boot_len, boot_len, replace=True)\n",
    "        X_train = X.iloc[bootstrap_indeces]\n",
    "        y_train = y[bootstrap_indeces]\n",
    "        \n",
    "        # Create indices for the out-of-bag data using np.setdiff1d\n",
    "        oob_indices = np.setdiff1d(oob_scope, bootstrap_indeces, assume_unique=False)\n",
    "        X_test = X.iloc[oob_indices]\n",
    "        y_test = y[oob_indices]\n",
    "\n",
    "        ridgereg.fit(X_train, y_train)\n",
    "        y_pred = ridgereg.predict(X_test)\n",
    "    \n",
    "        mse = mean_squared_error(y_test, y_pred) # считаю ошибку\n",
    "        \n",
    "        boot_data.append(mse) # складываю ошибки в список\n",
    "        \n",
    "    pd_boot_data = pd.DataFrame(boot_data, columns=['error'])\n",
    "        \n",
    "    left_quant = (1 - bootstrap_conf_level)/2\n",
    "    right_quant = 1 - (1 - bootstrap_conf_level) / 2\n",
    "    ci = pd_boot_data.quantile([left_quant, right_quant])\n",
    "    # sns.histplot(pd_boot_data, kde=True, stat=\"density\")\n",
    "\n",
    "    return {\"boot_data\": boot_data, \n",
    "            \"ci\": ci}"
   ]
  },
  {
   "cell_type": "code",
   "execution_count": 50,
   "id": "8dc81df3",
   "metadata": {},
   "outputs": [
    {
     "name": "stderr",
     "output_type": "stream",
     "text": [
      "100%|██████████| 1000/1000 [00:08<00:00, 115.28it/s]\n"
     ]
    }
   ],
   "source": [
    "bootstrap_dict = get_bootstrap(X, y)"
   ]
  },
  {
   "cell_type": "code",
   "execution_count": 54,
   "id": "43a7256a",
   "metadata": {},
   "outputs": [
    {
     "data": {
      "text/html": [
       "<div>\n",
       "<style scoped>\n",
       "    .dataframe tbody tr th:only-of-type {\n",
       "        vertical-align: middle;\n",
       "    }\n",
       "\n",
       "    .dataframe tbody tr th {\n",
       "        vertical-align: top;\n",
       "    }\n",
       "\n",
       "    .dataframe thead th {\n",
       "        text-align: right;\n",
       "    }\n",
       "</style>\n",
       "<table border=\"1\" class=\"dataframe\">\n",
       "  <thead>\n",
       "    <tr style=\"text-align: right;\">\n",
       "      <th></th>\n",
       "      <th>quantile</th>\n",
       "      <th>error</th>\n",
       "    </tr>\n",
       "  </thead>\n",
       "  <tbody>\n",
       "    <tr>\n",
       "      <th>0</th>\n",
       "      <td>0.025</td>\n",
       "      <td>0.506546</td>\n",
       "    </tr>\n",
       "    <tr>\n",
       "      <th>1</th>\n",
       "      <td>0.975</td>\n",
       "      <td>1.251516</td>\n",
       "    </tr>\n",
       "  </tbody>\n",
       "</table>\n",
       "</div>"
      ],
      "text/plain": [
       "   quantile     error\n",
       "0     0.025  0.506546\n",
       "1     0.975  1.251516"
      ]
     },
     "execution_count": 54,
     "metadata": {},
     "output_type": "execute_result"
    }
   ],
   "source": [
    "bootstrap_dict['ci'].reset_index().rename(columns={'index': 'quantile'})"
   ]
  },
  {
   "cell_type": "markdown",
   "id": "1c4a2991",
   "metadata": {},
   "source": [
    "# Задание 3. Machine learning\n",
    "Чему равно значение метрики AUC ROC у классификатора, который для любого объекта возвращает значение 0.97, если доля положительного класса в выборке составляет 4%?     \n",
    "Опишите свои рассуждения как можно точнее, с расчетами, если они потребуются."
   ]
  },
  {
   "cell_type": "markdown",
   "id": "bedc5701",
   "metadata": {},
   "source": [
    "**Ответ**\n",
    "- Классификатор возвращает высокую вероятность того, что все объекты принадлежат положительному классу 1, хотя истинно только 4% принадлежат положительному классу 1.\n",
    "- Что означает, что классификатор неправильно предсказывает метки отрицательного класса 0\n",
    "- FPR будет при этом высоким значением, так как классификатор отрицательные метки класса, предсказывает положительными\n",
    "- TPR будет также высоким, тк классификатор правильно определяет положительный класс\n",
    "\n",
    "**Вывод**: классификатор будет являться слабым, точка на графике 0.97 при истинно положительных 4% в осях TPR/FPR будет находится в правом верхнем углу, при этом площадь (метрика AUC ROC) будет около 0.5"
   ]
  },
  {
   "cell_type": "markdown",
   "id": "248c4c3f",
   "metadata": {},
   "source": [
    "**Рассуждения**\n",
    "- Значение метрики AUC (area under curve) — является площадь под ROC кривой, где ROC кривая в осях TPR/FPR;\n",
    "- На координатной плоскости кривая стартует с координатами (0, 0) и приходит в координаты (1, 1);\n",
    "- Метрика отражает способность классификатора различать классы со значение от 0,5 (случайная классификация), до 1.0 (идеальная классификация);\n",
    "- Чем лучше классификатор разделяет два класса, тем больше площадь (area under curve) под ROC-кривой;"
   ]
  },
  {
   "cell_type": "markdown",
   "id": "82d648a4",
   "metadata": {},
   "source": [
    "Доля положительных объектов правильно предсказанных положительными\n",
    "\n",
    "- TPR(true positive rate) = TP / TP + FN\n",
    "\n",
    "Доля неправильно предсказанных положительных объектов\n",
    "\n",
    "- FPR(false positive rate) = FP / TN + FP"
   ]
  },
  {
   "cell_type": "markdown",
   "id": "fc41a15f",
   "metadata": {},
   "source": [
    "# Задание 4. Deep learning\n",
    "Напишите функцию `get_pretrained_model`, которая принимает в качестве аргументов название архитектуры, количество классов для задачи классификации и стоит ли инициализировать модель с помощью полученных в ходе обучения на датасете `ImageNet`. Она должна иметь следующую сигнатуру: `def get_pretrained_model(model_name: str, num_classes: int, pretrained: bool=True):`\n",
    "\n",
    "Будем считать, что на вход могут прийти четыре различных model_name: `alexnet`, `vgg11`, `googlenet` и `resnet18`. Для каждого из них нужно вернуть соответствующую модель из зоопарка моделей `torchvision`.\n",
    "\n",
    "Чтобы понять, как именно модифицировать созданные объекты, посмотрите на исходный код для моделей:\n",
    "\n",
    "https://pytorch.org/hub/pytorch_vision_resnet/    \n",
    "https://pytorch.org/hub/pytorch_vision_alexnet/    \n",
    "https://pytorch.org/hub/pytorch_vision_vgg/    \n",
    "https://pytorch.org/hub/pytorch_vision_googlenet/"
   ]
  },
  {
   "cell_type": "markdown",
   "id": "d9071232",
   "metadata": {},
   "source": [
    "\\-"
   ]
  },
  {
   "cell_type": "code",
   "execution_count": null,
   "id": "310bd779",
   "metadata": {},
   "outputs": [],
   "source": []
  }
 ],
 "metadata": {
  "kernelspec": {
   "display_name": "Python 3",
   "language": "python",
   "name": "python3"
  },
  "language_info": {
   "codemirror_mode": {
    "name": "ipython",
    "version": 3
   },
   "file_extension": ".py",
   "mimetype": "text/x-python",
   "name": "python",
   "nbconvert_exporter": "python",
   "pygments_lexer": "ipython3",
   "version": "3.9.13"
  }
 },
 "nbformat": 4,
 "nbformat_minor": 5
}
